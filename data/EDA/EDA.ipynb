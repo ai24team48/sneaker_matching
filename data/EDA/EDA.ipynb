{
 "cells": [
  {
   "cell_type": "code",
   "execution_count": 1,
   "metadata": {},
   "outputs": [],
   "source": [
    "import pandas as pd\n",
    "import numpy as np\n",
    "import matplotlib.pyplot as plt"
   ]
  },
  {
   "cell_type": "code",
   "execution_count": 2,
   "metadata": {},
   "outputs": [],
   "source": [
    "df_lvl1 = pd.read_csv('level_1.csv')"
   ]
  },
  {
   "cell_type": "code",
   "execution_count": 3,
   "metadata": {},
   "outputs": [
    {
     "data": {
      "text/html": [
       "<div>\n",
       "<style scoped>\n",
       "    .dataframe tbody tr th:only-of-type {\n",
       "        vertical-align: middle;\n",
       "    }\n",
       "\n",
       "    .dataframe tbody tr th {\n",
       "        vertical-align: top;\n",
       "    }\n",
       "\n",
       "    .dataframe thead th {\n",
       "        text-align: right;\n",
       "    }\n",
       "</style>\n",
       "<table border=\"1\" class=\"dataframe\">\n",
       "  <thead>\n",
       "    <tr style=\"text-align: right;\">\n",
       "      <th></th>\n",
       "      <th>Unnamed: 0</th>\n",
       "      <th>count</th>\n",
       "    </tr>\n",
       "  </thead>\n",
       "  <tbody>\n",
       "    <tr>\n",
       "      <th>0</th>\n",
       "      <td>EPG</td>\n",
       "      <td>1746039</td>\n",
       "    </tr>\n",
       "    <tr>\n",
       "      <th>1</th>\n",
       "      <td>Одежда и обувь</td>\n",
       "      <td>399531</td>\n",
       "    </tr>\n",
       "    <tr>\n",
       "      <th>2</th>\n",
       "      <td>Книги и цифровые книги</td>\n",
       "      <td>106999</td>\n",
       "    </tr>\n",
       "  </tbody>\n",
       "</table>\n",
       "</div>"
      ],
      "text/plain": [
       "               Unnamed: 0    count\n",
       "0                     EPG  1746039\n",
       "1          Одежда и обувь   399531\n",
       "2  Книги и цифровые книги   106999"
      ]
     },
     "execution_count": 3,
     "metadata": {},
     "output_type": "execute_result"
    }
   ],
   "source": [
    "df_lvl1.head()"
   ]
  },
  {
   "cell_type": "code",
   "execution_count": 5,
   "metadata": {},
   "outputs": [],
   "source": [
    "df_lvl2 = pd.read_csv('level_2.csv')"
   ]
  },
  {
   "cell_type": "code",
   "execution_count": 6,
   "metadata": {},
   "outputs": [
    {
     "data": {
      "text/html": [
       "<div>\n",
       "<style scoped>\n",
       "    .dataframe tbody tr th:only-of-type {\n",
       "        vertical-align: middle;\n",
       "    }\n",
       "\n",
       "    .dataframe tbody tr th {\n",
       "        vertical-align: top;\n",
       "    }\n",
       "\n",
       "    .dataframe thead th {\n",
       "        text-align: right;\n",
       "    }\n",
       "</style>\n",
       "<table border=\"1\" class=\"dataframe\">\n",
       "  <thead>\n",
       "    <tr style=\"text-align: right;\">\n",
       "      <th></th>\n",
       "      <th>Unnamed: 0</th>\n",
       "      <th>count</th>\n",
       "    </tr>\n",
       "  </thead>\n",
       "  <tbody>\n",
       "    <tr>\n",
       "      <th>0</th>\n",
       "      <td>Дом и сад</td>\n",
       "      <td>214851</td>\n",
       "    </tr>\n",
       "    <tr>\n",
       "      <th>1</th>\n",
       "      <td>Одежда</td>\n",
       "      <td>200703</td>\n",
       "    </tr>\n",
       "    <tr>\n",
       "      <th>2</th>\n",
       "      <td>Обувь</td>\n",
       "      <td>198828</td>\n",
       "    </tr>\n",
       "    <tr>\n",
       "      <th>3</th>\n",
       "      <td>Строительство и ремонт</td>\n",
       "      <td>198109</td>\n",
       "    </tr>\n",
       "    <tr>\n",
       "      <th>4</th>\n",
       "      <td>Автотовары</td>\n",
       "      <td>182467</td>\n",
       "    </tr>\n",
       "  </tbody>\n",
       "</table>\n",
       "</div>"
      ],
      "text/plain": [
       "                Unnamed: 0   count\n",
       "0                Дом и сад  214851\n",
       "1                   Одежда  200703\n",
       "2                    Обувь  198828\n",
       "3   Строительство и ремонт  198109\n",
       "4               Автотовары  182467"
      ]
     },
     "execution_count": 6,
     "metadata": {},
     "output_type": "execute_result"
    }
   ],
   "source": [
    "df_lvl2.head()"
   ]
  },
  {
   "cell_type": "code",
   "execution_count": 8,
   "metadata": {},
   "outputs": [
    {
     "data": {
      "text/html": [
       "<div>\n",
       "<style scoped>\n",
       "    .dataframe tbody tr th:only-of-type {\n",
       "        vertical-align: middle;\n",
       "    }\n",
       "\n",
       "    .dataframe tbody tr th {\n",
       "        vertical-align: top;\n",
       "    }\n",
       "\n",
       "    .dataframe thead th {\n",
       "        text-align: right;\n",
       "    }\n",
       "</style>\n",
       "<table border=\"1\" class=\"dataframe\">\n",
       "  <thead>\n",
       "    <tr style=\"text-align: right;\">\n",
       "      <th></th>\n",
       "      <th>variantid</th>\n",
       "      <th>categories</th>\n",
       "      <th>characteristic_attributes_mapping</th>\n",
       "    </tr>\n",
       "  </thead>\n",
       "  <tbody>\n",
       "    <tr>\n",
       "      <th>0</th>\n",
       "      <td>47920382</td>\n",
       "      <td>{\"1\": \"EPG\", \"2\": \"Детские товары\", \"3\": \"Игру...</td>\n",
       "      <td>{\"Цвет товара\": [\"бежевый\", \"светло-розовый\"],...</td>\n",
       "    </tr>\n",
       "    <tr>\n",
       "      <th>1</th>\n",
       "      <td>49801845</td>\n",
       "      <td>{\"1\": \"EPG\", \"2\": \"Хобби и творчество\", \"3\": \"...</td>\n",
       "      <td>{\"Количество в упаковке, шт\": [\"1\"], \"Бренд\": ...</td>\n",
       "    </tr>\n",
       "    <tr>\n",
       "      <th>2</th>\n",
       "      <td>49853444</td>\n",
       "      <td>{\"1\": \"EPG\", \"2\": \"Хобби и творчество\", \"3\": \"...</td>\n",
       "      <td>{\"Бренд\": [\"Vervaco\"], \"Тип\": [\"Набор для выши...</td>\n",
       "    </tr>\n",
       "    <tr>\n",
       "      <th>3</th>\n",
       "      <td>49893028</td>\n",
       "      <td>{\"1\": \"EPG\", \"2\": \"Хобби и творчество\", \"3\": \"...</td>\n",
       "      <td>{\"Цвет товара\": [\"серый\"], \"Ширина, см\": [\"0.8...</td>\n",
       "    </tr>\n",
       "    <tr>\n",
       "      <th>4</th>\n",
       "      <td>49987483</td>\n",
       "      <td>{\"1\": \"EPG\", \"2\": \"Хобби и творчество\", \"3\": \"...</td>\n",
       "      <td>{\"Цвет товара\": [\"разноцветный\"], \"Название цв...</td>\n",
       "    </tr>\n",
       "  </tbody>\n",
       "</table>\n",
       "</div>"
      ],
      "text/plain": [
       "   variantid                                         categories  \\\n",
       "0   47920382  {\"1\": \"EPG\", \"2\": \"Детские товары\", \"3\": \"Игру...   \n",
       "1   49801845  {\"1\": \"EPG\", \"2\": \"Хобби и творчество\", \"3\": \"...   \n",
       "2   49853444  {\"1\": \"EPG\", \"2\": \"Хобби и творчество\", \"3\": \"...   \n",
       "3   49893028  {\"1\": \"EPG\", \"2\": \"Хобби и творчество\", \"3\": \"...   \n",
       "4   49987483  {\"1\": \"EPG\", \"2\": \"Хобби и творчество\", \"3\": \"...   \n",
       "\n",
       "                   characteristic_attributes_mapping  \n",
       "0  {\"Цвет товара\": [\"бежевый\", \"светло-розовый\"],...  \n",
       "1  {\"Количество в упаковке, шт\": [\"1\"], \"Бренд\": ...  \n",
       "2  {\"Бренд\": [\"Vervaco\"], \"Тип\": [\"Набор для выши...  \n",
       "3  {\"Цвет товара\": [\"серый\"], \"Ширина, см\": [\"0.8...  \n",
       "4  {\"Цвет товара\": [\"разноцветный\"], \"Название цв...  "
      ]
     },
     "execution_count": 8,
     "metadata": {},
     "output_type": "execute_result"
    }
   ],
   "source": [
    "df_attr = pd.read_parquet('attributes.parquet')\n",
    "df_attr.head()"
   ]
  },
  {
   "cell_type": "code",
   "execution_count": 10,
   "metadata": {},
   "outputs": [
    {
     "data": {
      "text/plain": [
       "(2252569, 3)"
      ]
     },
     "execution_count": 10,
     "metadata": {},
     "output_type": "execute_result"
    }
   ],
   "source": [
    "df_attr.shape"
   ]
  },
  {
   "cell_type": "code",
   "execution_count": 11,
   "metadata": {},
   "outputs": [
    {
     "name": "stdout",
     "output_type": "stream",
     "text": [
      "<class 'pandas.core.frame.DataFrame'>\n",
      "RangeIndex: 2252569 entries, 0 to 2252568\n",
      "Data columns (total 3 columns):\n",
      " #   Column                             Dtype \n",
      "---  ------                             ----- \n",
      " 0   variantid                          int64 \n",
      " 1   categories                         object\n",
      " 2   characteristic_attributes_mapping  object\n",
      "dtypes: int64(1), object(2)\n",
      "memory usage: 51.6+ MB\n"
     ]
    }
   ],
   "source": [
    "df_attr.info()"
   ]
  },
  {
   "cell_type": "code",
   "execution_count": 15,
   "metadata": {},
   "outputs": [],
   "source": [
    "import json"
   ]
  },
  {
   "cell_type": "code",
   "execution_count": 17,
   "metadata": {},
   "outputs": [],
   "source": [
    "df_attr['categories'] = df_attr['categories'].apply(json.loads)"
   ]
  },
  {
   "cell_type": "code",
   "execution_count": 18,
   "metadata": {},
   "outputs": [
    {
     "data": {
      "text/plain": [
       "4"
      ]
     },
     "execution_count": 18,
     "metadata": {},
     "output_type": "execute_result"
    }
   ],
   "source": [
    "df_attr['categories'].apply(len).max()"
   ]
  },
  {
   "cell_type": "code",
   "execution_count": 19,
   "metadata": {},
   "outputs": [
    {
     "data": {
      "text/plain": [
       "4"
      ]
     },
     "execution_count": 19,
     "metadata": {},
     "output_type": "execute_result"
    }
   ],
   "source": [
    "df_attr['categories'].apply(len).min()"
   ]
  },
  {
   "cell_type": "code",
   "execution_count": 22,
   "metadata": {},
   "outputs": [],
   "source": [
    "df_attr['cat_1'] = df_attr['categories'].apply(lambda x: x[\"1\"])\n",
    "df_attr['cat_2'] = df_attr['categories'].apply(lambda x: x[\"2\"])\n",
    "df_attr['cat_3'] = df_attr['categories'].apply(lambda x: x[\"3\"])\n",
    "df_attr['cat_4'] = df_attr['categories'].apply(lambda x: x[\"4\"])"
   ]
  },
  {
   "cell_type": "code",
   "execution_count": 23,
   "metadata": {},
   "outputs": [
    {
     "data": {
      "text/html": [
       "<div>\n",
       "<style scoped>\n",
       "    .dataframe tbody tr th:only-of-type {\n",
       "        vertical-align: middle;\n",
       "    }\n",
       "\n",
       "    .dataframe tbody tr th {\n",
       "        vertical-align: top;\n",
       "    }\n",
       "\n",
       "    .dataframe thead th {\n",
       "        text-align: right;\n",
       "    }\n",
       "</style>\n",
       "<table border=\"1\" class=\"dataframe\">\n",
       "  <thead>\n",
       "    <tr style=\"text-align: right;\">\n",
       "      <th></th>\n",
       "      <th>variantid</th>\n",
       "      <th>categories</th>\n",
       "      <th>characteristic_attributes_mapping</th>\n",
       "      <th>cat_1</th>\n",
       "      <th>cat_2</th>\n",
       "      <th>cat_3</th>\n",
       "      <th>cat_4</th>\n",
       "    </tr>\n",
       "  </thead>\n",
       "  <tbody>\n",
       "    <tr>\n",
       "      <th>0</th>\n",
       "      <td>47920382</td>\n",
       "      <td>{'1': 'EPG', '2': 'Детские товары', '3': 'Игру...</td>\n",
       "      <td>{\"Цвет товара\": [\"бежевый\", \"светло-розовый\"],...</td>\n",
       "      <td>EPG</td>\n",
       "      <td>Детские товары</td>\n",
       "      <td>Игрушки</td>\n",
       "      <td>Игрушка для ванной</td>\n",
       "    </tr>\n",
       "    <tr>\n",
       "      <th>1</th>\n",
       "      <td>49801845</td>\n",
       "      <td>{'1': 'EPG', '2': 'Хобби и творчество', '3': '...</td>\n",
       "      <td>{\"Количество в упаковке, шт\": [\"1\"], \"Бренд\": ...</td>\n",
       "      <td>EPG</td>\n",
       "      <td>Хобби и творчество</td>\n",
       "      <td>Материал для рукоделия</td>\n",
       "      <td>Стеклярус, бусины, стразы</td>\n",
       "    </tr>\n",
       "    <tr>\n",
       "      <th>2</th>\n",
       "      <td>49853444</td>\n",
       "      <td>{'1': 'EPG', '2': 'Хобби и творчество', '3': '...</td>\n",
       "      <td>{\"Бренд\": [\"Vervaco\"], \"Тип\": [\"Набор для выши...</td>\n",
       "      <td>EPG</td>\n",
       "      <td>Хобби и творчество</td>\n",
       "      <td>Набор для рукоделия, творчества</td>\n",
       "      <td>Набор для вышивания</td>\n",
       "    </tr>\n",
       "    <tr>\n",
       "      <th>3</th>\n",
       "      <td>49893028</td>\n",
       "      <td>{'1': 'EPG', '2': 'Хобби и творчество', '3': '...</td>\n",
       "      <td>{\"Цвет товара\": [\"серый\"], \"Ширина, см\": [\"0.8...</td>\n",
       "      <td>EPG</td>\n",
       "      <td>Хобби и творчество</td>\n",
       "      <td>Нитки, пряжа</td>\n",
       "      <td>Тесьма, кружево, лента, резинка</td>\n",
       "    </tr>\n",
       "    <tr>\n",
       "      <th>4</th>\n",
       "      <td>49987483</td>\n",
       "      <td>{'1': 'EPG', '2': 'Хобби и творчество', '3': '...</td>\n",
       "      <td>{\"Цвет товара\": [\"разноцветный\"], \"Название цв...</td>\n",
       "      <td>EPG</td>\n",
       "      <td>Хобби и творчество</td>\n",
       "      <td>Настольные и карточные игры</td>\n",
       "      <td>Настольная игра</td>\n",
       "    </tr>\n",
       "  </tbody>\n",
       "</table>\n",
       "</div>"
      ],
      "text/plain": [
       "   variantid                                         categories  \\\n",
       "0   47920382  {'1': 'EPG', '2': 'Детские товары', '3': 'Игру...   \n",
       "1   49801845  {'1': 'EPG', '2': 'Хобби и творчество', '3': '...   \n",
       "2   49853444  {'1': 'EPG', '2': 'Хобби и творчество', '3': '...   \n",
       "3   49893028  {'1': 'EPG', '2': 'Хобби и творчество', '3': '...   \n",
       "4   49987483  {'1': 'EPG', '2': 'Хобби и творчество', '3': '...   \n",
       "\n",
       "                   characteristic_attributes_mapping cat_1  \\\n",
       "0  {\"Цвет товара\": [\"бежевый\", \"светло-розовый\"],...   EPG   \n",
       "1  {\"Количество в упаковке, шт\": [\"1\"], \"Бренд\": ...   EPG   \n",
       "2  {\"Бренд\": [\"Vervaco\"], \"Тип\": [\"Набор для выши...   EPG   \n",
       "3  {\"Цвет товара\": [\"серый\"], \"Ширина, см\": [\"0.8...   EPG   \n",
       "4  {\"Цвет товара\": [\"разноцветный\"], \"Название цв...   EPG   \n",
       "\n",
       "                cat_2                            cat_3  \\\n",
       "0      Детские товары                          Игрушки   \n",
       "1  Хобби и творчество           Материал для рукоделия   \n",
       "2  Хобби и творчество  Набор для рукоделия, творчества   \n",
       "3  Хобби и творчество                     Нитки, пряжа   \n",
       "4  Хобби и творчество      Настольные и карточные игры   \n",
       "\n",
       "                             cat_4  \n",
       "0               Игрушка для ванной  \n",
       "1        Стеклярус, бусины, стразы  \n",
       "2              Набор для вышивания  \n",
       "3  Тесьма, кружево, лента, резинка  \n",
       "4                  Настольная игра  "
      ]
     },
     "execution_count": 23,
     "metadata": {},
     "output_type": "execute_result"
    }
   ],
   "source": [
    "df_attr.head()"
   ]
  },
  {
   "cell_type": "code",
   "execution_count": 24,
   "metadata": {},
   "outputs": [],
   "source": [
    "df_attr['characteristic_attributes_mapping'] = df_attr['characteristic_attributes_mapping'].apply(json.loads)"
   ]
  },
  {
   "cell_type": "code",
   "execution_count": 26,
   "metadata": {},
   "outputs": [],
   "source": [
    "df_attr['color'] = df_attr['characteristic_attributes_mapping'].apply(lambda x: x[\"Цвет товара\"] if \"Цвет товара\" in x else None)"
   ]
  },
  {
   "cell_type": "code",
   "execution_count": 27,
   "metadata": {},
   "outputs": [
    {
     "data": {
      "text/plain": [
       "color\n",
       "[черный]                                                                      234702\n",
       "[белый]                                                                       175803\n",
       "[разноцветный]                                                                105328\n",
       "[серый]                                                                        61015\n",
       "[бежевый]                                                                      52624\n",
       "                                                                               ...  \n",
       "[коричнево-красный, малиновый, темно-бежевый, темно-серый, черный матовый]         1\n",
       "[белый, зеленый, коричневый, оливковый, черный]                                    1\n",
       "[зеленый, золотой, прозрачный, розовый]                                            1\n",
       "[коричнево-красный, серый, темно-бордовый]                                         1\n",
       "[горчичный, салатовый, синий, темно-зеленый, фиолетовый]                           1\n",
       "Name: count, Length: 12957, dtype: int64"
      ]
     },
     "execution_count": 27,
     "metadata": {},
     "output_type": "execute_result"
    }
   ],
   "source": [
    "df_attr['color'].value_counts()"
   ]
  },
  {
   "cell_type": "code",
   "execution_count": null,
   "metadata": {},
   "outputs": [],
   "source": []
  }
 ],
 "metadata": {
  "interpreter": {
   "hash": "1f46b5c71fec854b1e11cdd190c57308ee0eeeaeef6c6be4b6e6128954ef41a4"
  },
  "kernelspec": {
   "display_name": "Python 3.10.8 64-bit",
   "language": "python",
   "name": "python3"
  },
  "language_info": {
   "codemirror_mode": {
    "name": "ipython",
    "version": 3
   },
   "file_extension": ".py",
   "mimetype": "text/x-python",
   "name": "python",
   "nbconvert_exporter": "python",
   "pygments_lexer": "ipython3",
   "version": "3.10.8"
  },
  "orig_nbformat": 4
 },
 "nbformat": 4,
 "nbformat_minor": 2
}
