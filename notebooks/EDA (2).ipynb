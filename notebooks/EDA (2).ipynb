{
 "cells": [
  {
   "cell_type": "code",
   "execution_count": 1,
   "metadata": {},
   "outputs": [],
   "source": [
    "import pandas as pd\n",
    "import numpy as np\n",
    "import matplotlib.pyplot as plt"
   ]
  },
  {
   "cell_type": "code",
   "execution_count": 2,
   "metadata": {},
   "outputs": [],
   "source": [
    "df_lvl1 = pd.read_csv('level_1.csv')"
   ]
  },
  {
   "cell_type": "code",
   "execution_count": 3,
   "metadata": {},
   "outputs": [
    {
     "data": {
      "text/html": [
       "<div>\n",
       "<style scoped>\n",
       "    .dataframe tbody tr th:only-of-type {\n",
       "        vertical-align: middle;\n",
       "    }\n",
       "\n",
       "    .dataframe tbody tr th {\n",
       "        vertical-align: top;\n",
       "    }\n",
       "\n",
       "    .dataframe thead th {\n",
       "        text-align: right;\n",
       "    }\n",
       "</style>\n",
       "<table border=\"1\" class=\"dataframe\">\n",
       "  <thead>\n",
       "    <tr style=\"text-align: right;\">\n",
       "      <th></th>\n",
       "      <th>Unnamed: 0</th>\n",
       "      <th>count</th>\n",
       "    </tr>\n",
       "  </thead>\n",
       "  <tbody>\n",
       "    <tr>\n",
       "      <th>0</th>\n",
       "      <td>EPG</td>\n",
       "      <td>1746039</td>\n",
       "    </tr>\n",
       "    <tr>\n",
       "      <th>1</th>\n",
       "      <td>Одежда и обувь</td>\n",
       "      <td>399531</td>\n",
       "    </tr>\n",
       "    <tr>\n",
       "      <th>2</th>\n",
       "      <td>Книги и цифровые книги</td>\n",
       "      <td>106999</td>\n",
       "    </tr>\n",
       "  </tbody>\n",
       "</table>\n",
       "</div>"
      ],
      "text/plain": [
       "               Unnamed: 0    count\n",
       "0                     EPG  1746039\n",
       "1          Одежда и обувь   399531\n",
       "2  Книги и цифровые книги   106999"
      ]
     },
     "execution_count": 3,
     "metadata": {},
     "output_type": "execute_result"
    }
   ],
   "source": [
    "df_lvl1.head()"
   ]
  },
  {
   "cell_type": "code",
   "execution_count": 4,
   "metadata": {},
   "outputs": [],
   "source": [
    "df_lvl2 = pd.read_csv('level_2.csv')"
   ]
  },
  {
   "cell_type": "code",
   "execution_count": 5,
   "metadata": {},
   "outputs": [
    {
     "data": {
      "text/html": [
       "<div>\n",
       "<style scoped>\n",
       "    .dataframe tbody tr th:only-of-type {\n",
       "        vertical-align: middle;\n",
       "    }\n",
       "\n",
       "    .dataframe tbody tr th {\n",
       "        vertical-align: top;\n",
       "    }\n",
       "\n",
       "    .dataframe thead th {\n",
       "        text-align: right;\n",
       "    }\n",
       "</style>\n",
       "<table border=\"1\" class=\"dataframe\">\n",
       "  <thead>\n",
       "    <tr style=\"text-align: right;\">\n",
       "      <th></th>\n",
       "      <th>Unnamed: 0</th>\n",
       "      <th>count</th>\n",
       "    </tr>\n",
       "  </thead>\n",
       "  <tbody>\n",
       "    <tr>\n",
       "      <th>0</th>\n",
       "      <td>Дом и сад</td>\n",
       "      <td>214851</td>\n",
       "    </tr>\n",
       "    <tr>\n",
       "      <th>1</th>\n",
       "      <td>Одежда</td>\n",
       "      <td>200703</td>\n",
       "    </tr>\n",
       "    <tr>\n",
       "      <th>2</th>\n",
       "      <td>Обувь</td>\n",
       "      <td>198828</td>\n",
       "    </tr>\n",
       "    <tr>\n",
       "      <th>3</th>\n",
       "      <td>Строительство и ремонт</td>\n",
       "      <td>198109</td>\n",
       "    </tr>\n",
       "    <tr>\n",
       "      <th>4</th>\n",
       "      <td>Автотовары</td>\n",
       "      <td>182467</td>\n",
       "    </tr>\n",
       "  </tbody>\n",
       "</table>\n",
       "</div>"
      ],
      "text/plain": [
       "                Unnamed: 0   count\n",
       "0                Дом и сад  214851\n",
       "1                   Одежда  200703\n",
       "2                    Обувь  198828\n",
       "3   Строительство и ремонт  198109\n",
       "4               Автотовары  182467"
      ]
     },
     "execution_count": 5,
     "metadata": {},
     "output_type": "execute_result"
    }
   ],
   "source": [
    "df_lvl2.head()"
   ]
  },
  {
   "cell_type": "code",
   "execution_count": 6,
   "metadata": {},
   "outputs": [
    {
     "data": {
      "text/html": [
       "<div>\n",
       "<style scoped>\n",
       "    .dataframe tbody tr th:only-of-type {\n",
       "        vertical-align: middle;\n",
       "    }\n",
       "\n",
       "    .dataframe tbody tr th {\n",
       "        vertical-align: top;\n",
       "    }\n",
       "\n",
       "    .dataframe thead th {\n",
       "        text-align: right;\n",
       "    }\n",
       "</style>\n",
       "<table border=\"1\" class=\"dataframe\">\n",
       "  <thead>\n",
       "    <tr style=\"text-align: right;\">\n",
       "      <th></th>\n",
       "      <th>variantid</th>\n",
       "      <th>categories</th>\n",
       "      <th>characteristic_attributes_mapping</th>\n",
       "    </tr>\n",
       "  </thead>\n",
       "  <tbody>\n",
       "    <tr>\n",
       "      <th>0</th>\n",
       "      <td>47920382</td>\n",
       "      <td>{\"1\": \"EPG\", \"2\": \"Детские товары\", \"3\": \"Игру...</td>\n",
       "      <td>{\"Цвет товара\": [\"бежевый\", \"светло-розовый\"],...</td>\n",
       "    </tr>\n",
       "    <tr>\n",
       "      <th>1</th>\n",
       "      <td>49801845</td>\n",
       "      <td>{\"1\": \"EPG\", \"2\": \"Хобби и творчество\", \"3\": \"...</td>\n",
       "      <td>{\"Количество в упаковке, шт\": [\"1\"], \"Бренд\": ...</td>\n",
       "    </tr>\n",
       "    <tr>\n",
       "      <th>2</th>\n",
       "      <td>49853444</td>\n",
       "      <td>{\"1\": \"EPG\", \"2\": \"Хобби и творчество\", \"3\": \"...</td>\n",
       "      <td>{\"Бренд\": [\"Vervaco\"], \"Тип\": [\"Набор для выши...</td>\n",
       "    </tr>\n",
       "    <tr>\n",
       "      <th>3</th>\n",
       "      <td>49893028</td>\n",
       "      <td>{\"1\": \"EPG\", \"2\": \"Хобби и творчество\", \"3\": \"...</td>\n",
       "      <td>{\"Цвет товара\": [\"серый\"], \"Ширина, см\": [\"0.8...</td>\n",
       "    </tr>\n",
       "    <tr>\n",
       "      <th>4</th>\n",
       "      <td>49987483</td>\n",
       "      <td>{\"1\": \"EPG\", \"2\": \"Хобби и творчество\", \"3\": \"...</td>\n",
       "      <td>{\"Цвет товара\": [\"разноцветный\"], \"Название цв...</td>\n",
       "    </tr>\n",
       "  </tbody>\n",
       "</table>\n",
       "</div>"
      ],
      "text/plain": [
       "   variantid                                         categories  \\\n",
       "0   47920382  {\"1\": \"EPG\", \"2\": \"Детские товары\", \"3\": \"Игру...   \n",
       "1   49801845  {\"1\": \"EPG\", \"2\": \"Хобби и творчество\", \"3\": \"...   \n",
       "2   49853444  {\"1\": \"EPG\", \"2\": \"Хобби и творчество\", \"3\": \"...   \n",
       "3   49893028  {\"1\": \"EPG\", \"2\": \"Хобби и творчество\", \"3\": \"...   \n",
       "4   49987483  {\"1\": \"EPG\", \"2\": \"Хобби и творчество\", \"3\": \"...   \n",
       "\n",
       "                   characteristic_attributes_mapping  \n",
       "0  {\"Цвет товара\": [\"бежевый\", \"светло-розовый\"],...  \n",
       "1  {\"Количество в упаковке, шт\": [\"1\"], \"Бренд\": ...  \n",
       "2  {\"Бренд\": [\"Vervaco\"], \"Тип\": [\"Набор для выши...  \n",
       "3  {\"Цвет товара\": [\"серый\"], \"Ширина, см\": [\"0.8...  \n",
       "4  {\"Цвет товара\": [\"разноцветный\"], \"Название цв...  "
      ]
     },
     "execution_count": 6,
     "metadata": {},
     "output_type": "execute_result"
    }
   ],
   "source": [
    "df_attr = pd.read_parquet('attributes.parquet')\n",
    "df_attr.head()"
   ]
  },
  {
   "cell_type": "code",
   "execution_count": 30,
   "metadata": {},
   "outputs": [
    {
     "data": {
      "text/plain": [
       "{'Цвет товара': ['бежевый', 'светло-розовый'],\n",
       " 'Пол ребенка': ['Унисекс'],\n",
       " 'Бренд': ['Funny Ducks'],\n",
       " 'Тип': ['Игрушка для ванной'],\n",
       " 'Страна-изготовитель': ['Китай'],\n",
       " 'Развитие навыков': ['Воображение', 'Кругозор', 'Моторика'],\n",
       " 'Код ТРУ': ['320000000.03051400500000000000'],\n",
       " 'Минимальный возраст ребенка': ['От 3 лет'],\n",
       " 'Материал': ['ПВХ пластизоль'],\n",
       " 'Вес товара, г': ['50'],\n",
       " 'Максимальный возраст ребенка': ['До 18 лет']}"
      ]
     },
     "execution_count": 30,
     "metadata": {},
     "output_type": "execute_result"
    }
   ],
   "source": [
    "df_attr['characteristic_attributes_mapping'].iloc[0]"
   ]
  },
  {
   "cell_type": "code",
   "execution_count": 7,
   "metadata": {},
   "outputs": [
    {
     "data": {
      "text/plain": [
       "(2252569, 3)"
      ]
     },
     "execution_count": 7,
     "metadata": {},
     "output_type": "execute_result"
    }
   ],
   "source": [
    "df_attr.shape"
   ]
  },
  {
   "cell_type": "code",
   "execution_count": 8,
   "metadata": {},
   "outputs": [
    {
     "name": "stdout",
     "output_type": "stream",
     "text": [
      "<class 'pandas.core.frame.DataFrame'>\n",
      "RangeIndex: 2252569 entries, 0 to 2252568\n",
      "Data columns (total 3 columns):\n",
      " #   Column                             Dtype \n",
      "---  ------                             ----- \n",
      " 0   variantid                          int64 \n",
      " 1   categories                         object\n",
      " 2   characteristic_attributes_mapping  object\n",
      "dtypes: int64(1), object(2)\n",
      "memory usage: 51.6+ MB\n"
     ]
    }
   ],
   "source": [
    "df_attr.info()"
   ]
  },
  {
   "cell_type": "code",
   "execution_count": 9,
   "metadata": {},
   "outputs": [],
   "source": [
    "import json"
   ]
  },
  {
   "cell_type": "code",
   "execution_count": 10,
   "metadata": {},
   "outputs": [],
   "source": [
    "df_attr['categories'] = df_attr['categories'].apply(json.loads)"
   ]
  },
  {
   "cell_type": "code",
   "execution_count": 11,
   "metadata": {},
   "outputs": [
    {
     "data": {
      "text/plain": [
       "4"
      ]
     },
     "execution_count": 11,
     "metadata": {},
     "output_type": "execute_result"
    }
   ],
   "source": [
    "df_attr['categories'].apply(len).max()"
   ]
  },
  {
   "cell_type": "code",
   "execution_count": 12,
   "metadata": {},
   "outputs": [
    {
     "data": {
      "text/plain": [
       "4"
      ]
     },
     "execution_count": 12,
     "metadata": {},
     "output_type": "execute_result"
    }
   ],
   "source": [
    "df_attr['categories'].apply(len).min()"
   ]
  },
  {
   "cell_type": "code",
   "execution_count": 13,
   "metadata": {},
   "outputs": [],
   "source": [
    "df_attr['cat_1'] = df_attr['categories'].apply(lambda x: x[\"1\"])\n",
    "df_attr['cat_2'] = df_attr['categories'].apply(lambda x: x[\"2\"])\n",
    "df_attr['cat_3'] = df_attr['categories'].apply(lambda x: x[\"3\"])\n",
    "df_attr['cat_4'] = df_attr['categories'].apply(lambda x: x[\"4\"])"
   ]
  },
  {
   "cell_type": "code",
   "execution_count": 14,
   "metadata": {},
   "outputs": [
    {
     "data": {
      "text/html": [
       "<div>\n",
       "<style scoped>\n",
       "    .dataframe tbody tr th:only-of-type {\n",
       "        vertical-align: middle;\n",
       "    }\n",
       "\n",
       "    .dataframe tbody tr th {\n",
       "        vertical-align: top;\n",
       "    }\n",
       "\n",
       "    .dataframe thead th {\n",
       "        text-align: right;\n",
       "    }\n",
       "</style>\n",
       "<table border=\"1\" class=\"dataframe\">\n",
       "  <thead>\n",
       "    <tr style=\"text-align: right;\">\n",
       "      <th></th>\n",
       "      <th>variantid</th>\n",
       "      <th>categories</th>\n",
       "      <th>characteristic_attributes_mapping</th>\n",
       "      <th>cat_1</th>\n",
       "      <th>cat_2</th>\n",
       "      <th>cat_3</th>\n",
       "      <th>cat_4</th>\n",
       "    </tr>\n",
       "  </thead>\n",
       "  <tbody>\n",
       "    <tr>\n",
       "      <th>0</th>\n",
       "      <td>47920382</td>\n",
       "      <td>{'1': 'EPG', '2': 'Детские товары', '3': 'Игру...</td>\n",
       "      <td>{\"Цвет товара\": [\"бежевый\", \"светло-розовый\"],...</td>\n",
       "      <td>EPG</td>\n",
       "      <td>Детские товары</td>\n",
       "      <td>Игрушки</td>\n",
       "      <td>Игрушка для ванной</td>\n",
       "    </tr>\n",
       "    <tr>\n",
       "      <th>1</th>\n",
       "      <td>49801845</td>\n",
       "      <td>{'1': 'EPG', '2': 'Хобби и творчество', '3': '...</td>\n",
       "      <td>{\"Количество в упаковке, шт\": [\"1\"], \"Бренд\": ...</td>\n",
       "      <td>EPG</td>\n",
       "      <td>Хобби и творчество</td>\n",
       "      <td>Материал для рукоделия</td>\n",
       "      <td>Стеклярус, бусины, стразы</td>\n",
       "    </tr>\n",
       "    <tr>\n",
       "      <th>2</th>\n",
       "      <td>49853444</td>\n",
       "      <td>{'1': 'EPG', '2': 'Хобби и творчество', '3': '...</td>\n",
       "      <td>{\"Бренд\": [\"Vervaco\"], \"Тип\": [\"Набор для выши...</td>\n",
       "      <td>EPG</td>\n",
       "      <td>Хобби и творчество</td>\n",
       "      <td>Набор для рукоделия, творчества</td>\n",
       "      <td>Набор для вышивания</td>\n",
       "    </tr>\n",
       "    <tr>\n",
       "      <th>3</th>\n",
       "      <td>49893028</td>\n",
       "      <td>{'1': 'EPG', '2': 'Хобби и творчество', '3': '...</td>\n",
       "      <td>{\"Цвет товара\": [\"серый\"], \"Ширина, см\": [\"0.8...</td>\n",
       "      <td>EPG</td>\n",
       "      <td>Хобби и творчество</td>\n",
       "      <td>Нитки, пряжа</td>\n",
       "      <td>Тесьма, кружево, лента, резинка</td>\n",
       "    </tr>\n",
       "    <tr>\n",
       "      <th>4</th>\n",
       "      <td>49987483</td>\n",
       "      <td>{'1': 'EPG', '2': 'Хобби и творчество', '3': '...</td>\n",
       "      <td>{\"Цвет товара\": [\"разноцветный\"], \"Название цв...</td>\n",
       "      <td>EPG</td>\n",
       "      <td>Хобби и творчество</td>\n",
       "      <td>Настольные и карточные игры</td>\n",
       "      <td>Настольная игра</td>\n",
       "    </tr>\n",
       "  </tbody>\n",
       "</table>\n",
       "</div>"
      ],
      "text/plain": [
       "   variantid                                         categories  \\\n",
       "0   47920382  {'1': 'EPG', '2': 'Детские товары', '3': 'Игру...   \n",
       "1   49801845  {'1': 'EPG', '2': 'Хобби и творчество', '3': '...   \n",
       "2   49853444  {'1': 'EPG', '2': 'Хобби и творчество', '3': '...   \n",
       "3   49893028  {'1': 'EPG', '2': 'Хобби и творчество', '3': '...   \n",
       "4   49987483  {'1': 'EPG', '2': 'Хобби и творчество', '3': '...   \n",
       "\n",
       "                   characteristic_attributes_mapping cat_1  \\\n",
       "0  {\"Цвет товара\": [\"бежевый\", \"светло-розовый\"],...   EPG   \n",
       "1  {\"Количество в упаковке, шт\": [\"1\"], \"Бренд\": ...   EPG   \n",
       "2  {\"Бренд\": [\"Vervaco\"], \"Тип\": [\"Набор для выши...   EPG   \n",
       "3  {\"Цвет товара\": [\"серый\"], \"Ширина, см\": [\"0.8...   EPG   \n",
       "4  {\"Цвет товара\": [\"разноцветный\"], \"Название цв...   EPG   \n",
       "\n",
       "                cat_2                            cat_3  \\\n",
       "0      Детские товары                          Игрушки   \n",
       "1  Хобби и творчество           Материал для рукоделия   \n",
       "2  Хобби и творчество  Набор для рукоделия, творчества   \n",
       "3  Хобби и творчество                     Нитки, пряжа   \n",
       "4  Хобби и творчество      Настольные и карточные игры   \n",
       "\n",
       "                             cat_4  \n",
       "0               Игрушка для ванной  \n",
       "1        Стеклярус, бусины, стразы  \n",
       "2              Набор для вышивания  \n",
       "3  Тесьма, кружево, лента, резинка  \n",
       "4                  Настольная игра  "
      ]
     },
     "execution_count": 14,
     "metadata": {},
     "output_type": "execute_result"
    }
   ],
   "source": [
    "df_attr.head()"
   ]
  },
  {
   "cell_type": "code",
   "execution_count": 15,
   "metadata": {},
   "outputs": [],
   "source": [
    "df_attr['characteristic_attributes_mapping'] = df_attr['characteristic_attributes_mapping'].apply(json.loads)"
   ]
  },
  {
   "cell_type": "code",
   "execution_count": 16,
   "metadata": {},
   "outputs": [],
   "source": [
    "df_attr['color'] = df_attr['characteristic_attributes_mapping'].apply(lambda x: x[\"Цвет товара\"] if \"Цвет товара\" in x else None)"
   ]
  },
  {
   "cell_type": "code",
   "execution_count": 17,
   "metadata": {},
   "outputs": [
    {
     "data": {
      "text/plain": [
       "color\n",
       "[черный]                                                                      234702\n",
       "[белый]                                                                       175803\n",
       "[разноцветный]                                                                105328\n",
       "[серый]                                                                        61015\n",
       "[бежевый]                                                                      52624\n",
       "                                                                               ...  \n",
       "[коричнево-красный, малиновый, темно-бежевый, темно-серый, черный матовый]         1\n",
       "[белый, зеленый, коричневый, оливковый, черный]                                    1\n",
       "[зеленый, золотой, прозрачный, розовый]                                            1\n",
       "[коричнево-красный, серый, темно-бордовый]                                         1\n",
       "[горчичный, салатовый, синий, темно-зеленый, фиолетовый]                           1\n",
       "Name: count, Length: 12957, dtype: int64"
      ]
     },
     "execution_count": 17,
     "metadata": {},
     "output_type": "execute_result"
    }
   ],
   "source": [
    "df_attr['color'].value_counts()"
   ]
  },
  {
   "cell_type": "code",
   "execution_count": null,
   "metadata": {},
   "outputs": [],
   "source": [
    "#Найдем самые часто встречающиеся цвета"
   ]
  },
  {
   "cell_type": "code",
   "execution_count": 18,
   "metadata": {},
   "outputs": [
    {
     "name": "stdout",
     "output_type": "stream",
     "text": [
      "Counter({'черный': 310885, 'белый': 236145, 'разноцветный': 105368, 'серый': 90627, 'бежевый': 74874, 'синий': 70428, 'красный': 59760, 'коричневый': 59057, 'зеленый': 55199, 'серебристый': 51910, 'розовый': 49695, 'желтый': 38718, 'голубой': 35027, 'золотой': 32021, 'прозрачный': 29507, 'оранжевый': 23583, 'фиолетовый': 21247, 'темно-синий': 20196, 'темно-серый': 18929, 'черный матовый': 15751, 'светло-серый': 15251, 'хром': 15248, 'хаки': 13471, 'серый металлик': 12951, 'светло-бежевый': 12784, 'бирюзовый': 11095, 'черно-серый': 10894, 'бордовый': 10659, 'светло-коричневый': 10489, 'темно-коричневый': 9526, 'бронза': 8020, 'темно-зеленый': 7906, 'кремовый': 7851, 'сиреневый': 7592, 'светло-зеленый': 7377, 'светло-розовый': 7326, 'светло-синий': 5948, 'коричнево-красный': 5472, 'салатовый': 4982, 'лазурный': 4792, 'темно-бежевый': 4435, 'оливковый': 4413, 'шоколадный': 4251, 'светло-желтый': 3691, 'слоновая кость': 3630, 'пурпурный': 3456, 'горчичный': 3138, 'коралловый': 3072, 'малиновый': 3028, 'фуксия': 2961, 'медь': 2953, 'темно-розовый': 2825, 'лиловый': 2811, 'перламутровый': 1984, 'темно-бордовый': 1855, 'зеркальный': 1771, 'рыжий': 231, 'апельсин': 95, 'золотистый': 88, 'темно-голубой': 86, 'глубокий черный': 84, 'черный графит': 79, 'белый матовый': 67, 'лазурно-серый': 60, 'молочный': 60, 'пепел': 57, 'фиалковый': 50, 'темно-лазурный': 45, 'бежевый лайт': 44, 'серебро': 40, 'пурпур': 39, 'светло-салатовый': 30, 'песочный': 30, 'абрикосовый': 29, 'черный каменный': 28, 'глубокий коричневый': 28, 'васильковый': 25, 'черный меланж': 25, 'светло-голубой': 25, 'холодный белый': 23, 'глубокий зеленый': 23, 'кофейный': 22, 'черно-красный': 22, 'ярко-синий': 21, 'бело-синий': 20, 'розовая пудра': 19, 'бургунди': 19, 'винно-красный': 19, 'сине-морской': 17, 'черный кристалл': 17, 'ярко-голубой': 17, 'насыщенный коричневый': 17, 'светлый хаки': 16, 'бриллиантово-синий': 16, 'бледно-зеленый': 16, 'зеленая оливка': 16, 'черный лакированный никел': 16, 'шоколадно-коричневый': 15, 'белый глянец': 15, 'черный муар': 15, 'кремово-белый': 15, 'зеленый лист': 15, 'изумрудно-зеленый': 15, 'черный сахара': 15, 'зеленое море': 14, 'оливково-зеленый': 14, 'коричневый меланж': 14, 'серебристо-белый': 14, 'синий меланж': 13, 'белый мрамор': 13, 'дымчатый': 13, 'зеленка': 13, 'капучино': 13, 'белый текстурный': 13, 'черный кварц': 13, 'синий бархат': 13, 'графит': 13, 'белый песок': 12, 'серебристо-серый': 12, 'синий кобальт': 12, 'серо-бежевый': 12, 'бежевый меланж': 12, 'ярко-зеленый': 12, 'красный матовый': 12, 'коричневый мрамор': 12, 'розовая платина': 12, 'белый бриллиант': 12, 'агатовый серый': 12, 'средне-серый': 12, 'бело-зеленый': 12, 'зеленая мята': 12, 'васаби': 11, 'теплый белый': 11, 'бело-серый': 11, 'серый графит': 11, 'черно-коричневый': 11, 'пурпурно-красный': 11, 'зеленое стекло': 11, 'серо-синий': 11, 'яркий оранжевый': 11, 'мандариновый': 11, 'розовый грейфрут': 11, 'белый муар': 11, 'серый меланж': 11, 'бежевый нейтральный': 10, 'изумрудный': 10, 'кофе': 10, 'красновато-бордовый': 10, 'светло-фиолетовый': 10, 'темный горький шоколад': 10, 'ванильно-бежевый': 10, 'королевский синий': 10, 'серо-черный': 10, 'красный бархат': 10, 'прозрачный кристалл': 9, 'фиолетовый меланж': 9, 'красный песок': 9, 'бело-розовый': 9, 'серый шелк': 9, 'айвори': 9, 'розовое золото': 9, 'черный нюд': 9, 'ярко-розовый': 8, 'темно-синий джинсовый': 8, 'розовый кварц': 8, 'белый иней': 8, 'бэби-голубой': 8, 'коричневый крайола': 8, 'коричневый перламутровый': 8, 'черно-синий': 8, 'голубой лед': 8, 'темный хаки': 8, 'абрикосовый крайола': 8, 'зеленая груша': 8, 'антрацитово-серый': 8, 'голубино-синий': 8, 'телесный': 8, 'лимонный': 7, 'красная слива': 7, 'голубой меланж': 7, 'амарантово-розовый': 7, 'розово-пурпурный': 7, 'лен': 7, 'зелёный блеск': 7, 'желтый меланж': 7, 'огненно-красный': 7, 'синий космос': 7, 'пудровый': 7, 'джинс': 7, 'перламутрово-зелёный': 7, 'синий лист': 7, 'розовое облако': 7, 'черный сапфир': 7, 'зернистый темно-зеленый': 7, 'розовый гранат': 7, 'галопогосский зеленый': 7, 'чернильный': 7, 'зеленый бархат': 7, 'белый шоколад': 7, 'морская волна': 7, 'иссиня-черный': 7, 'мятно-бирюзовый': 6, 'рубиновый': 6, 'бежево-розовый': 6, 'золотисто-коричневый': 6, 'зеленовато-серый': 6, 'темный синий меланж': 6, 'розово-коралловый': 6, 'серый гранит': 6, 'серо-коричневый': 6, 'лавандовый': 6, 'бронзовый': 6, 'оранжево-красный': 6, 'темно-красный': 6, 'бледно-синий': 6, 'лимонно-желтый': 6, 'зеленый лишайник': 6, 'рождественский зеленый': 6, 'супер белый': 6, 'сине-бирюзовый': 6, 'алый': 6, 'зернистый черный': 6, 'зеленовато-синий': 6, 'бледно-розовый': 6, 'глубокий пурпурно-розовый': 5, 'леопардовый': 5, 'зеленый меланж': 5, 'темно-синий графитовый': 5, 'желто-коричневый': 5, 'травяной зеленый': 5, 'оранжево-желтый': 5, 'бледно-голубой': 5, 'черно-зеленый': 5, 'светло-бирюзовый': 5, 'бежевый прозрачный': 5, 'кофе с молоком': 5, 'темная слива': 5, 'песочно-желтый': 5, 'глубокий красный': 5, 'оранжево-розовый': 5, 'умеренный красный': 5, 'бело-терракотовый': 5, 'коричневый ротанг': 5, 'пастельно-песочный': 5, 'красно-коричневый': 5, 'серо-зеленый': 5, 'ярко-красный': 5, 'зеленый дым': 5, 'малиново-розовый': 5, 'мятно-серый': 5, 'ночной синий': 5, 'розовый антик': 5, 'темно-каштановый': 5, 'солнечно-желтый': 5, 'зеленый мох': 5, 'сигнальный серый': 5, 'льняной': 5, 'розовая фуксия': 5, 'серебристый туман': 5, 'оранжевый неон': 5, 'медный': 5, 'пастельно-розовый': 5, 'медово-бежевый': 5, 'бежевый глянец': 5, 'розовый нюд прозрачный': 5, 'экрю': 4, 'охра': 4, 'античное золото': 4, 'розовый дым': 4, 'морской': 4, 'зеленый неон': 4, 'розовая долина': 4, 'розовый меланж': 4, 'коричневая горчица': 4, 'жемчужно-белый': 4, 'бордовый меланж': 4, 'светлое дерево': 4, 'красный каркаде': 4, 'розовый неон': 4, 'мягкий розовый': 4, 'чайная роза': 4, 'аметистовый': 4, 'коричнево-серый': 4, 'мятный': 4, 'зернистый темно-серый': 4, 'темно-алый': 4, 'сливовый': 4, 'персиковый': 4, 'розово-коричневый': 4, 'розовый тауп': 4, 'пастельно-салатовый': 4, 'рыжевато-коричневый': 4, 'розовый персик': 4, 'нежно-голубой': 4, 'светло-персиковый': 4, 'сиреневый меланж': 4, 'ярко-желтый': 4, 'зеленовато-бежевый': 4, 'светло-серый меланж': 4, 'ярко-салатовый': 4, 'кирпично-красный': 3, 'синий неон': 3, 'вишнево-красный': 3, 'пурпурно-розовый': 3, 'голубой берилл': 3, 'жемчужный': 3, 'молочный шоколад': 3, 'авокадо': 3, 'розовая гвоздика': 3, 'бледно-коричневый': 3, 'резедово-зеленый': 3, 'светло-золотистый': 3, 'розовый жемчуг': 3, 'розовый лимонад': 3, 'пастельно-коричневый': 3, 'желтый крайола': 3, 'розовый фарфор': 3, 'амарантовый': 3, 'желто-оранжевый': 3, 'серебристый меланж': 3, 'персиково-розовый': 3, 'небесный': 3, 'камуфляж': 3, 'фиолетово-баклажанный': 3, 'бордово-фиолетовый': 3, 'красно-пурпурный': 3, 'сталь': 3, 'светло-песочный': 3, 'лайм': 3, 'сочный гранат': 3, 'небесно-голубой': 3, 'розово-лавандовый': 3, 'антрацитовый': 3, 'голубой туман': 3, 'глубокий фиолетовый': 3, 'молочно-голубой': 3, 'красный виноград': 3, 'пшеничный': 3, 'бабл гам': 3, 'бирюзово-зеленый': 3, 'серо-бежевый светлый': 3, 'холодный зеленый': 3, 'синяя волна': 3, 'бэби-розовый': 3, 'сапфировый': 3, 'пыльно-оливковый': 3, 'сатиновое золото': 3, 'горький шоколад': 3, 'голубой тиффани': 3, 'брусничный': 3, 'желтый бархат': 3, 'оливково-серый': 3, 'желтый матовый': 3, 'корица': 3, 'металл': 3, 'болотный': 3, 'золотисто-бежевый': 2, 'светлый опаловый': 2, 'ежевичный': 2, 'приглушенно-белый': 2, 'свежий мятный': 2, 'темно-персиковый': 2, 'темно-фиолетовый': 2, 'бледно-лиловый': 2, 'красно-сиреневый': 2, 'сине-серый': 2, 'маджента': 2, 'синевато-зеленый': 2, 'светло-сиреневый': 2, 'желтый тюльпан': 2, 'черничный': 2, 'медно-коричневый': 2, 'пастельно-серый': 2, 'античный розовый': 2, 'лимонно-зеленый': 2, 'лососевый': 2, 'карбон': 2, 'брезентово-серый': 2, 'средне-серый меланж': 2, 'краплак красный': 2, 'перламутровый голубой': 2, 'сумеречный': 2, 'мокрый асфальт': 2, 'серебристый пион': 2, 'охотничий зеленый': 2, 'тускло-сиреневый': 2, 'мягкий белый': 2, 'синий лён': 2, 'пепельно-коричневый': 2, 'розово-золотой': 2, 'зернистый серый': 2, 'шафрановый': 2, 'теплый бежевый': 2, 'светло серо-зеленый': 2, 'пыльная сирень': 2, 'темно-бурый': 2, 'голубая ель': 2, 'серовато-розовый': 2, 'желто-зеленый светлый': 2, 'коралловый темный': 2, 'мохито': 2, 'пломбир': 2, 'сгоревший желтый': 2, 'ягодный': 2, 'латте': 2, 'натуральный кремовый': 2, 'темная мята': 2, 'античная бронза': 2, 'еловый лес': 2, 'натуральный зеленый': 2, 'инжирный': 2, 'сапфирово-синий': 2, 'оранжевый витамин': 2, 'зернистый светло-бежевый': 2, 'синяя лазурь': 2, 'зелено-серый': 2, 'акулья кожа': 2, 'палисандр': 2, 'алоэ': 2, 'бронзово-оливковый': 2, 'индиго': 2, 'атласное серебро': 2, 'серо-голубой': 2, 'защитный хаки': 2, 'французский синий': 2, 'королевский розовый': 2, 'вишня': 2, 'зернистый светло-серый': 2, 'голубые джинсы': 2, 'бирюзовый иней': 2, 'изумрудный меланж': 2, 'натуральный серый': 2, 'карамельный': 2, 'мышино-серый': 2, 'красно-оранжевый': 2, 'кармин': 2, 'желто-красный': 2, 'серовато-зеленый': 1, 'бледно-пурпурный': 1, 'серо-зеленый джинсовый': 1, 'коньячный': 1, '': 1, 'розовато-серый': 1, 'античный белый': 1, 'желто-зеленый': 1, 'темная вишня': 1, 'шампань': 1, 'вишневый': 1, 'табачный': 1, 'банановый': 1, 'глубокий сине-зеленый': 1, 'пурпурно-синий': 1, 'терракот меланж': 1, 'фисташковый': 1, 'светло-оливковый': 1, 'крафт': 1, 'кобальт': 1, 'серо-голубой светлый': 1, 'темно-желтый': 1, 'топаз': 1, 'аквамариновый': 1, 'ирисовый': 1, 'розово-фиолетовый': 1, 'джинсовый меланж': 1, 'теплый серый': 1, 'лавандово-розовый': 1, 'облепиха': 1, 'умеренный розовый': 1, 'светлая фиалка': 1, 'вери пери': 1, 'глубокий пурпурный': 1, 'жемчужный серый': 1, 'коричневато-розовый': 1, 'полынь': 1, 'терракотовый меланж': 1, 'бледно-бордовый': 1, 'латунь': 1, 'темно-горчичный': 1, 'марсала': 1, 'синий петроль': 1, 'блестящий пурпурный': 1, 'синий персидский': 1, 'темно-оранжевый': 1, 'матовое золото': 1, 'сливочный': 1, 'ультрамариновый': 1, 'пастельно-фиолетовый': 1, 'незрелый желтый': 1, 'темно-серый меланж': 1, 'какао': 1, 'зернистый бордовый': 1, 'морковный': 1, 'электрик': 1, 'умеренно зеленый': 1, 'сумрачно-белый': 1, 'винный': 1, 'гранатовый': 1, 'ментол': 1, 'кофейный десерт': 1, 'серый лист': 1, 'серовато-красный': 1, 'пастельно-бирюзовый': 1, 'пастельно-мятный': 1, 'красно-розовый меланж': 1, 'баклажановый': 1, 'пыльный голубой': 1, 'дымчатый синий': 1, 'светло-оранжевый': 1, 'тиффани': 1, 'светло-пурпурный': 1, 'охра желтая': 1, 'насыщенный желтый': 1, 'янтарный': 1, 'персидский красный': 1, 'тауп': 1, 'кофейная роза': 1, 'лимонный крем': 1, 'терракотовый': 1, 'розовый нектар': 1, 'бледно-желтый': 1, 'зернистый серо-голубой': 1, 'серо-фиолетовый': 1, 'грязно-голубой': 1, 'пыльный бежевый': 1, 'темно-бирюзовый': 1, 'пастельно-голубой': 1})\n"
     ]
    }
   ],
   "source": [
    "from collections import Counter\n",
    "a = []\n",
    "for i in df_attr['color'].values:\n",
    "    if i is not None: a.extend(i)\n",
    "print(Counter(a))"
   ]
  },
  {
   "cell_type": "code",
   "execution_count": 76,
   "metadata": {},
   "outputs": [
    {
     "data": {
      "text/plain": [
       "[('черный', 310885),\n",
       " ('белый', 236145),\n",
       " ('разноцветный', 105368),\n",
       " ('серый', 90627),\n",
       " ('бежевый', 74874),\n",
       " ('синий', 70428),\n",
       " ('красный', 59760),\n",
       " ('коричневый', 59057),\n",
       " ('зеленый', 55199),\n",
       " ('серебристый', 51910)]"
      ]
     },
     "execution_count": 76,
     "metadata": {},
     "output_type": "execute_result"
    }
   ],
   "source": [
    "d = Counter(a).items()\n",
    "d = sorted(d, key=lambda x: -x[1])\n",
    "d[:10]"
   ]
  },
  {
   "cell_type": "code",
   "execution_count": 80,
   "metadata": {},
   "outputs": [
    {
     "data": {
      "text/plain": [
       "([0, 1, 2, 3, 4, 5, 6, 7, 8, 9],\n",
       " [Text(0, 0, 'черный'),\n",
       "  Text(1, 0, 'белый'),\n",
       "  Text(2, 0, 'разноцветный'),\n",
       "  Text(3, 0, 'серый'),\n",
       "  Text(4, 0, 'бежевый'),\n",
       "  Text(5, 0, 'синий'),\n",
       "  Text(6, 0, 'красный'),\n",
       "  Text(7, 0, 'коричневый'),\n",
       "  Text(8, 0, 'зеленый'),\n",
       "  Text(9, 0, 'серебристый')])"
      ]
     },
     "execution_count": 80,
     "metadata": {},
     "output_type": "execute_result"
    },
    {
     "data": {
      "image/png": "[encoded data removed]",
      "text/plain": [
       "<Figure size 640x480 with 1 Axes>"
      ]
     },
     "metadata": {},
     "output_type": "display_data"
    }
   ],
   "source": [
    "plt.bar(list(map(lambda x: x[0], d[:10])), list(map(lambda x: x[1], d[:10])))\n",
    "plt.xticks(rotation=90)"
   ]
  },
  {
   "cell_type": "code",
   "execution_count": 71,
   "metadata": {},
   "outputs": [],
   "source": [
    "#Самый частый цвет это черный\n",
    "# выцепим фичу - это черный или нет\n",
    "df_attr['is_black'] = df_attr['color'].apply(lambda x: int(x is not None and 'черный' in x))"
   ]
  },
  {
   "cell_type": "code",
   "execution_count": 72,
   "metadata": {},
   "outputs": [
    {
     "data": {
      "text/plain": [
       "<BarContainer object of 2 artists>"
      ]
     },
     "execution_count": 72,
     "metadata": {},
     "output_type": "execute_result"
    },
    {
     "data": {
      "image/png": "[encoded data removed]",
      "text/plain": [
       "<Figure size 640x480 with 1 Axes>"
      ]
     },
     "metadata": {},
     "output_type": "display_data"
    }
   ],
   "source": [
    "plt.bar(['0', '1'], [df_attr[df_attr['is_black'] == 0].shape[0], df_attr[df_attr['is_black'] == 1].shape[0]])"
   ]
  },
  {
   "cell_type": "code",
   "execution_count": null,
   "metadata": {},
   "outputs": [],
   "source": [
    "#вытащим бренд товара"
   ]
  },
  {
   "cell_type": "code",
   "execution_count": 21,
   "metadata": {},
   "outputs": [],
   "source": [
    "df_attr['brand'] = df_attr['characteristic_attributes_mapping'].apply(lambda x: x[\"Бренд\"][0] if \"Бренд\" in x else None)"
   ]
  },
  {
   "cell_type": "code",
   "execution_count": 22,
   "metadata": {},
   "outputs": [
    {
     "data": {
      "text/plain": [
       "0          Funny Ducks\n",
       "1           Нет бренда\n",
       "2              Vervaco\n",
       "3                 Prym\n",
       "4              Оригами\n",
       "              ...     \n",
       "2252564     Нет бренда\n",
       "2252565           None\n",
       "2252566          Daiwa\n",
       "2252567           None\n",
       "2252568     Нет бренда\n",
       "Name: brand, Length: 2252569, dtype: object"
      ]
     },
     "execution_count": 22,
     "metadata": {},
     "output_type": "execute_result"
    }
   ],
   "source": [
    "df_attr['brand']"
   ]
  },
  {
   "cell_type": "code",
   "execution_count": 23,
   "metadata": {},
   "outputs": [
    {
     "data": {
      "text/plain": [
       "brand\n",
       "Нет бренда        326596\n",
       "PATRON             18131\n",
       "SkySleep           12848\n",
       "LYNXauto           10690\n",
       "SLEEP A LOT         8777\n",
       "                   ...  \n",
       "COMANDIR               1\n",
       "BSE                    1\n",
       "Минерал Ресурс         1\n",
       "Fishing time           1\n",
       "ADaiY                  1\n",
       "Name: count, Length: 57885, dtype: int64"
      ]
     },
     "execution_count": 23,
     "metadata": {},
     "output_type": "execute_result"
    }
   ],
   "source": [
    "#Самый частый бренд\n",
    "df_attr['brand'].value_counts()"
   ]
  },
  {
   "cell_type": "code",
   "execution_count": 81,
   "metadata": {},
   "outputs": [],
   "source": [
    "temp = df_attr['brand'].value_counts()"
   ]
  },
  {
   "cell_type": "code",
   "execution_count": 87,
   "metadata": {},
   "outputs": [
    {
     "data": {
      "text/plain": [
       "([0, 1, 2, 3, 4, 5, 6, 7, 8, 9],\n",
       " [Text(0, 0, 'Нет бренда'),\n",
       "  Text(1, 0, 'PATRON'),\n",
       "  Text(2, 0, 'SkySleep'),\n",
       "  Text(3, 0, 'LYNXauto'),\n",
       "  Text(4, 0, 'SLEEP A LOT'),\n",
       "  Text(5, 0, 'Лига Диванов'),\n",
       "  Text(6, 0, 'Febest'),\n",
       "  Text(7, 0, 'BeLOC'),\n",
       "  Text(8, 0, 'Grand Cadeau'),\n",
       "  Text(9, 0, 'Casio')])"
      ]
     },
     "execution_count": 87,
     "metadata": {},
     "output_type": "execute_result"
    },
    {
     "data": {
      "image/png": "[encoded data removed]",
      "text/plain": [
       "<Figure size 640x480 with 1 Axes>"
      ]
     },
     "metadata": {},
     "output_type": "display_data"
    }
   ],
   "source": [
    "plt.bar(list(temp.index)[:10], list(temp.values)[:10])\n",
    "plt.xticks(rotation=90)"
   ]
  },
  {
   "cell_type": "code",
   "execution_count": null,
   "metadata": {},
   "outputs": [],
   "source": [
    "#Получим фичу количества товаров в упаковке"
   ]
  },
  {
   "cell_type": "code",
   "execution_count": 24,
   "metadata": {},
   "outputs": [],
   "source": [
    "df_attr['count_in_pack'] = df_attr['characteristic_attributes_mapping'].apply(lambda x: x[\"Количество в упаковке, шт\"][0] if \"Количество в упаковке, шт\" in x else None)"
   ]
  },
  {
   "cell_type": "code",
   "execution_count": 25,
   "metadata": {},
   "outputs": [
    {
     "data": {
      "text/plain": [
       "0          None\n",
       "1             1\n",
       "2          None\n",
       "3          None\n",
       "4          None\n",
       "           ... \n",
       "2252564    None\n",
       "2252565    None\n",
       "2252566    None\n",
       "2252567    None\n",
       "2252568    None\n",
       "Name: count_in_pack, Length: 2252569, dtype: object"
      ]
     },
     "execution_count": 25,
     "metadata": {},
     "output_type": "execute_result"
    }
   ],
   "source": [
    "df_attr['count_in_pack']"
   ]
  },
  {
   "cell_type": "code",
   "execution_count": 29,
   "metadata": {},
   "outputs": [
    {
     "data": {
      "text/plain": [
       "count_in_pack\n",
       "1                                          71228\n",
       "2                                           7171\n",
       "5                                           5822\n",
       "10                                          5654\n",
       "3                                           4131\n",
       "                                           ...  \n",
       "Лента 1.8см х 11м бумажная фуксия (1шт)        1\n",
       "996                                            1\n",
       "440                                            1\n",
       "216                                            1\n",
       "1182                                           1\n",
       "Name: count, Length: 275, dtype: int64"
      ]
     },
     "execution_count": 29,
     "metadata": {},
     "output_type": "execute_result"
    }
   ],
   "source": [
    "df_attr['count_in_pack'].value_counts()"
   ]
  },
  {
   "cell_type": "code",
   "execution_count": 93,
   "metadata": {},
   "outputs": [],
   "source": [
    "def func(x):\n",
    "    try:\n",
    "        return int(x)\n",
    "    except:\n",
    "        return 0\n",
    "df_attr['count_in_pack'] = df_attr['count_in_pack'].fillna(0).apply(func).astype(int)"
   ]
  },
  {
   "cell_type": "code",
   "execution_count": 94,
   "metadata": {},
   "outputs": [
    {
     "data": {
      "text/plain": [
       "{'whiskers': [<matplotlib.lines.Line2D at 0x22a7dcf32b0>,\n",
       "  <matplotlib.lines.Line2D at 0x22a7dcf3550>],\n",
       " 'caps': [<matplotlib.lines.Line2D at 0x22a7dcf37f0>,\n",
       "  <matplotlib.lines.Line2D at 0x22a7dcf3a90>],\n",
       " 'boxes': [<matplotlib.lines.Line2D at 0x22a7dcf3010>],\n",
       " 'medians': [<matplotlib.lines.Line2D at 0x22a7dcf3d30>],\n",
       " 'fliers': [<matplotlib.lines.Line2D at 0x22a7dcf3fd0>],\n",
       " 'means': []}"
      ]
     },
     "execution_count": 94,
     "metadata": {},
     "output_type": "execute_result"
    },
    {
     "data": {
      "image/png": "[encoded data removed]",
      "text/plain": [
       "<Figure size 640x480 with 1 Axes>"
      ]
     },
     "metadata": {},
     "output_type": "display_data"
    }
   ],
   "source": [
    "plt.boxplot(df_attr['count_in_pack'])"
   ]
  },
  {
   "cell_type": "code",
   "execution_count": null,
   "metadata": {},
   "outputs": [],
   "source": [
    "#посчитаем квантили"
   ]
  },
  {
   "cell_type": "code",
   "execution_count": 98,
   "metadata": {},
   "outputs": [
    {
     "data": {
      "text/plain": [
       "0.0"
      ]
     },
     "execution_count": 98,
     "metadata": {},
     "output_type": "execute_result"
    }
   ],
   "source": [
    "df_attr['count_in_pack'].quantile(q=0.75)"
   ]
  },
  {
   "cell_type": "code",
   "execution_count": 99,
   "metadata": {},
   "outputs": [
    {
     "data": {
      "text/plain": [
       "0.0"
      ]
     },
     "execution_count": 99,
     "metadata": {},
     "output_type": "execute_result"
    }
   ],
   "source": [
    "df_attr['count_in_pack'].quantile(q=0.5)"
   ]
  },
  {
   "cell_type": "code",
   "execution_count": 100,
   "metadata": {},
   "outputs": [
    {
     "data": {
      "text/plain": [
       "0.0"
      ]
     },
     "execution_count": 100,
     "metadata": {},
     "output_type": "execute_result"
    }
   ],
   "source": [
    "df_attr['count_in_pack'].quantile(q=0.25)"
   ]
  },
  {
   "cell_type": "code",
   "execution_count": 102,
   "metadata": {},
   "outputs": [
    {
     "data": {
      "text/plain": [
       "1.0"
      ]
     },
     "execution_count": 102,
     "metadata": {},
     "output_type": "execute_result"
    }
   ],
   "source": [
    "df_attr['count_in_pack'].quantile(q=0.95)"
   ]
  },
  {
   "cell_type": "code",
   "execution_count": 103,
   "metadata": {},
   "outputs": [
    {
     "data": {
      "text/plain": [
       "0.816852225170461"
      ]
     },
     "execution_count": 103,
     "metadata": {},
     "output_type": "execute_result"
    }
   ],
   "source": [
    "df_attr['count_in_pack'].mean()"
   ]
  },
  {
   "cell_type": "code",
   "execution_count": 104,
   "metadata": {},
   "outputs": [
    {
     "data": {
      "text/plain": [
       "45500"
      ]
     },
     "execution_count": 104,
     "metadata": {},
     "output_type": "execute_result"
    }
   ],
   "source": [
    "df_attr['count_in_pack'].max()"
   ]
  },
  {
   "cell_type": "code",
   "execution_count": 105,
   "metadata": {},
   "outputs": [
    {
     "data": {
      "text/plain": [
       "-1"
      ]
     },
     "execution_count": 105,
     "metadata": {},
     "output_type": "execute_result"
    }
   ],
   "source": [
    "df_attr['count_in_pack'].min()"
   ]
  },
  {
   "cell_type": "code",
   "execution_count": 106,
   "metadata": {},
   "outputs": [
    {
     "data": {
      "text/plain": [
       "0.0"
      ]
     },
     "execution_count": 106,
     "metadata": {},
     "output_type": "execute_result"
    }
   ],
   "source": [
    "df_attr['count_in_pack'].median()"
   ]
  },
  {
   "cell_type": "code",
   "execution_count": null,
   "metadata": {},
   "outputs": [],
   "source": [
    "#Вытащим страны-производители"
   ]
  },
  {
   "cell_type": "code",
   "execution_count": 31,
   "metadata": {},
   "outputs": [],
   "source": [
    "df_attr['country'] = df_attr['characteristic_attributes_mapping'].apply(lambda x: x[\"Страна-изготовитель\"][0] if \"Страна-изготовитель\" in x else None)"
   ]
  },
  {
   "cell_type": "code",
   "execution_count": 32,
   "metadata": {},
   "outputs": [
    {
     "data": {
      "text/plain": [
       "0             Китай\n",
       "1              None\n",
       "2           Бельгия\n",
       "3          Германия\n",
       "4            Россия\n",
       "             ...   \n",
       "2252564       Китай\n",
       "2252565        None\n",
       "2252566        None\n",
       "2252567        None\n",
       "2252568      Россия\n",
       "Name: country, Length: 2252569, dtype: object"
      ]
     },
     "execution_count": 32,
     "metadata": {},
     "output_type": "execute_result"
    }
   ],
   "source": [
    "df_attr['country']"
   ]
  },
  {
   "cell_type": "code",
   "execution_count": 33,
   "metadata": {},
   "outputs": [
    {
     "data": {
      "text/plain": [
       "country\n",
       "Китай                728461\n",
       "Россия               673771\n",
       "Италия                41066\n",
       "Германия              38273\n",
       "Турция                34102\n",
       "                      ...  \n",
       "Никарагуа                 1\n",
       "Мозамбик                  1\n",
       "Антигуа и Барбуда         1\n",
       "Гвинейская Р-ка           1\n",
       "Венесуэла                 1\n",
       "Name: count, Length: 178, dtype: int64"
      ]
     },
     "execution_count": 33,
     "metadata": {},
     "output_type": "execute_result"
    }
   ],
   "source": [
    "df_attr['country'].value_counts()"
   ]
  },
  {
   "cell_type": "code",
   "execution_count": 107,
   "metadata": {},
   "outputs": [
    {
     "data": {
      "text/plain": [
       "([0, 1, 2, 3, 4, 5, 6, 7, 8, 9],\n",
       " [Text(0, 0, 'Китай'),\n",
       "  Text(1, 0, 'Россия'),\n",
       "  Text(2, 0, 'Италия'),\n",
       "  Text(3, 0, 'Германия'),\n",
       "  Text(4, 0, 'Турция'),\n",
       "  Text(5, 0, 'Япония'),\n",
       "  Text(6, 0, 'Беларусь'),\n",
       "  Text(7, 0, 'США'),\n",
       "  Text(8, 0, 'Вьетнам'),\n",
       "  Text(9, 0, 'Польша')])"
      ]
     },
     "execution_count": 107,
     "metadata": {},
     "output_type": "execute_result"
    },
    {
     "data": {
      "image/png": "[encoded data removed]",
      "text/plain": [
       "<Figure size 640x480 with 1 Axes>"
      ]
     },
     "metadata": {},
     "output_type": "display_data"
    }
   ],
   "source": [
    "temp = df_attr['country'].value_counts()\n",
    "plt.bar(list(temp.index)[:10], list(temp.values)[:10])\n",
    "plt.xticks(rotation=90)"
   ]
  },
  {
   "cell_type": "code",
   "execution_count": 34,
   "metadata": {},
   "outputs": [],
   "source": [
    "df_attr['weight'] = df_attr['characteristic_attributes_mapping'].apply(lambda x: x[\"Вес товара, г\"][0] if \"Вес товара, г\" in x else None)"
   ]
  },
  {
   "cell_type": "code",
   "execution_count": 38,
   "metadata": {},
   "outputs": [
    {
     "data": {
      "text/plain": [
       "weight\n",
       "100                        17532\n",
       "50                         15626\n",
       "500                        14334\n",
       "1000                       12376\n",
       "200                        12335\n",
       "                           ...  \n",
       "44053                          1\n",
       "18112                          1\n",
       "40001                          1\n",
       "50450                          1\n",
       "светодиодный светильник        1\n",
       "Name: count, Length: 11312, dtype: int64"
      ]
     },
     "execution_count": 38,
     "metadata": {},
     "output_type": "execute_result"
    }
   ],
   "source": [
    "df_attr['weight'].value_counts()"
   ]
  },
  {
   "cell_type": "code",
   "execution_count": 108,
   "metadata": {},
   "outputs": [],
   "source": [
    "df_attr['weight'] = df_attr['weight'].apply(func)"
   ]
  },
  {
   "cell_type": "code",
   "execution_count": 109,
   "metadata": {},
   "outputs": [
    {
     "data": {
      "text/plain": [
       "{'whiskers': [<matplotlib.lines.Line2D at 0x22b5222d660>,\n",
       "  <matplotlib.lines.Line2D at 0x22b5222d900>],\n",
       " 'caps': [<matplotlib.lines.Line2D at 0x22b5222dba0>,\n",
       "  <matplotlib.lines.Line2D at 0x22b5222de40>],\n",
       " 'boxes': [<matplotlib.lines.Line2D at 0x22b5222d3c0>],\n",
       " 'medians': [<matplotlib.lines.Line2D at 0x22b5222e0e0>],\n",
       " 'fliers': [<matplotlib.lines.Line2D at 0x22b5222e380>],\n",
       " 'means': []}"
      ]
     },
     "execution_count": 109,
     "metadata": {},
     "output_type": "execute_result"
    },
    {
     "data": {
      "image/png": "[encoded data removed]",
      "text/plain": [
       "<Figure size 640x480 with 1 Axes>"
      ]
     },
     "metadata": {},
     "output_type": "display_data"
    }
   ],
   "source": [
    "plt.boxplot(df_attr['weight'])"
   ]
  },
  {
   "cell_type": "code",
   "execution_count": 110,
   "metadata": {},
   "outputs": [
    {
     "data": {
      "text/plain": [
       "0.0"
      ]
     },
     "execution_count": 110,
     "metadata": {},
     "output_type": "execute_result"
    }
   ],
   "source": [
    "df_attr['weight'].quantile(q=0.75)"
   ]
  },
  {
   "cell_type": "code",
   "execution_count": 111,
   "metadata": {},
   "outputs": [
    {
     "data": {
      "text/plain": [
       "0.0"
      ]
     },
     "execution_count": 111,
     "metadata": {},
     "output_type": "execute_result"
    }
   ],
   "source": [
    "df_attr['weight'].quantile(q=0.5)"
   ]
  },
  {
   "cell_type": "code",
   "execution_count": 112,
   "metadata": {},
   "outputs": [
    {
     "data": {
      "text/plain": [
       "0.0"
      ]
     },
     "execution_count": 112,
     "metadata": {},
     "output_type": "execute_result"
    }
   ],
   "source": [
    "df_attr['weight'].quantile(q=0.25)"
   ]
  },
  {
   "cell_type": "code",
   "execution_count": 113,
   "metadata": {},
   "outputs": [
    {
     "data": {
      "text/plain": [
       "5000.0"
      ]
     },
     "execution_count": 113,
     "metadata": {},
     "output_type": "execute_result"
    }
   ],
   "source": [
    "df_attr['weight'].quantile(q=0.95)"
   ]
  },
  {
   "cell_type": "code",
   "execution_count": 114,
   "metadata": {},
   "outputs": [
    {
     "data": {
      "text/plain": [
       "2500000"
      ]
     },
     "execution_count": 114,
     "metadata": {},
     "output_type": "execute_result"
    }
   ],
   "source": [
    "df_attr['weight'].max()"
   ]
  },
  {
   "cell_type": "code",
   "execution_count": 115,
   "metadata": {},
   "outputs": [
    {
     "data": {
      "text/plain": [
       "0"
      ]
     },
     "execution_count": 115,
     "metadata": {},
     "output_type": "execute_result"
    }
   ],
   "source": [
    "df_attr['weight'].min()"
   ]
  },
  {
   "cell_type": "code",
   "execution_count": 116,
   "metadata": {},
   "outputs": [
    {
     "data": {
      "text/plain": [
       "1812.4886696034616"
      ]
     },
     "execution_count": 116,
     "metadata": {},
     "output_type": "execute_result"
    }
   ],
   "source": [
    "df_attr['weight'].mean()"
   ]
  },
  {
   "cell_type": "code",
   "execution_count": 117,
   "metadata": {},
   "outputs": [
    {
     "data": {
      "text/plain": [
       "<matplotlib.collections.PathCollection at 0x22aed985d50>"
      ]
     },
     "execution_count": 117,
     "metadata": {},
     "output_type": "execute_result"
    },
    {
     "data": {
      "image/png": "[encoded data removed]",
      "text/plain": [
       "<Figure size 640x480 with 1 Axes>"
      ]
     },
     "metadata": {},
     "output_type": "display_data"
    }
   ],
   "source": [
    "plt.scatter(df_attr['weight'], df_attr['count_in_pack'])"
   ]
  },
  {
   "cell_type": "code",
   "execution_count": 119,
   "metadata": {},
   "outputs": [],
   "source": [
    "df_attr['material'] = df_attr['characteristic_attributes_mapping'].apply(lambda x: x[\"Материал\"][0] if \"Материал\" in x else None)"
   ]
  },
  {
   "cell_type": "code",
   "execution_count": 40,
   "metadata": {},
   "outputs": [
    {
     "data": {
      "text/plain": [
       "0          ПВХ пластизоль\n",
       "1                   Акрил\n",
       "2                    None\n",
       "3                    None\n",
       "4                  Бумага\n",
       "                ...      \n",
       "2252564              None\n",
       "2252565              None\n",
       "2252566              None\n",
       "2252567              None\n",
       "2252568            Металл\n",
       "Name: material, Length: 2252569, dtype: object"
      ]
     },
     "execution_count": 40,
     "metadata": {},
     "output_type": "execute_result"
    }
   ],
   "source": [
    "df_attr['material']"
   ]
  },
  {
   "cell_type": "code",
   "execution_count": 41,
   "metadata": {},
   "outputs": [
    {
     "data": {
      "text/plain": [
       "material\n",
       "Полиэстер           47023\n",
       "Пластик             45555\n",
       "Хлопок              43537\n",
       "Натуральная кожа    39568\n",
       "Металл              30761\n",
       "                    ...  \n",
       "Тесто                   1\n",
       "Пенакрил                1\n",
       "Thinsulate              1\n",
       "Ткань Alma              1\n",
       "Босс                    1\n",
       "Name: count, Length: 1012, dtype: int64"
      ]
     },
     "execution_count": 41,
     "metadata": {},
     "output_type": "execute_result"
    }
   ],
   "source": [
    "df_attr['material'].value_counts()"
   ]
  },
  {
   "cell_type": "code",
   "execution_count": 120,
   "metadata": {},
   "outputs": [
    {
     "data": {
      "text/plain": [
       "([0, 1, 2, 3, 4, 5, 6, 7, 8, 9],\n",
       " [Text(0, 0, 'Полиэстер'),\n",
       "  Text(1, 0, 'Пластик'),\n",
       "  Text(2, 0, 'Хлопок'),\n",
       "  Text(3, 0, 'Натуральная кожа'),\n",
       "  Text(4, 0, 'Металл'),\n",
       "  Text(5, 0, 'ABS пластик'),\n",
       "  Text(6, 0, 'Искусственная кожа'),\n",
       "  Text(7, 0, 'EVA'),\n",
       "  Text(8, 0, 'Керамика'),\n",
       "  Text(9, 0, 'Полиэфирное волокно')])"
      ]
     },
     "execution_count": 120,
     "metadata": {},
     "output_type": "execute_result"
    },
    {
     "data": {
      "image/png": "[encoded data removed]",
      "text/plain": [
       "<Figure size 640x480 with 1 Axes>"
      ]
     },
     "metadata": {},
     "output_type": "display_data"
    }
   ],
   "source": [
    "temp = df_attr['material'].value_counts()\n",
    "plt.bar(list(temp.index)[:10], list(temp.values)[:10])\n",
    "plt.xticks(rotation=90)"
   ]
  },
  {
   "cell_type": "code",
   "execution_count": 42,
   "metadata": {},
   "outputs": [],
   "source": [
    "df_attr['type'] = df_attr['characteristic_attributes_mapping'].apply(lambda x: x[\"Тип\"][0] if \"Тип\" in x else None)"
   ]
  },
  {
   "cell_type": "code",
   "execution_count": 43,
   "metadata": {},
   "outputs": [
    {
     "data": {
      "text/plain": [
       "0                     Игрушка для ванной\n",
       "1                                 Стразы\n",
       "2                    Набор для вышивания\n",
       "3                                 Тесьма\n",
       "4                        Настольная игра\n",
       "                       ...              \n",
       "2252564                   Электросамокат\n",
       "2252565                             None\n",
       "2252566    Монофильная леска для рыбалки\n",
       "2252567                             None\n",
       "2252568                  Фигурка садовая\n",
       "Name: type, Length: 2252569, dtype: object"
      ]
     },
     "execution_count": 43,
     "metadata": {},
     "output_type": "execute_result"
    }
   ],
   "source": [
    "df_attr['type']"
   ]
  },
  {
   "cell_type": "code",
   "execution_count": 44,
   "metadata": {},
   "outputs": [
    {
     "data": {
      "text/plain": [
       "type\n",
       "Матрас                   37694\n",
       "Очки для чтения          21449\n",
       "Очки для дали            19466\n",
       "Кружка                   18377\n",
       "Корм сухой               18361\n",
       "                         ...  \n",
       "Модуль для ресепшена         1\n",
       "Пружина сцепления            1\n",
       "Гель для физиотерапии        1\n",
       "Зерносмесь                   1\n",
       "Подкладки на домкрат         1\n",
       "Name: count, Length: 10735, dtype: int64"
      ]
     },
     "execution_count": 44,
     "metadata": {},
     "output_type": "execute_result"
    }
   ],
   "source": [
    "df_attr['type'].value_counts()"
   ]
  },
  {
   "cell_type": "code",
   "execution_count": 121,
   "metadata": {},
   "outputs": [
    {
     "data": {
      "text/plain": [
       "([0, 1, 2, 3, 4, 5, 6, 7, 8, 9],\n",
       " [Text(0, 0, 'Матрас'),\n",
       "  Text(1, 0, 'Очки для чтения'),\n",
       "  Text(2, 0, 'Очки для дали'),\n",
       "  Text(3, 0, 'Кружка'),\n",
       "  Text(4, 0, 'Корм сухой'),\n",
       "  Text(5, 0, 'Футболка'),\n",
       "  Text(6, 0, 'Вибратор'),\n",
       "  Text(7, 0, 'Часы наручные'),\n",
       "  Text(8, 0, 'Браслет'),\n",
       "  Text(9, 0, 'Колодки тормозные')])"
      ]
     },
     "execution_count": 121,
     "metadata": {},
     "output_type": "execute_result"
    },
    {
     "data": {
      "image/png": "[encoded data removed]",
      "text/plain": [
       "<Figure size 640x480 with 1 Axes>"
      ]
     },
     "metadata": {},
     "output_type": "display_data"
    }
   ],
   "source": [
    "temp = df_attr['type'].value_counts()\n",
    "plt.bar(list(temp.index)[:10], list(temp.values)[:10])\n",
    "plt.xticks(rotation=90)"
   ]
  }
 ],
 "metadata": {
  "kernelspec": {
   "display_name": "Python 3",
   "language": "python",
   "name": "python3"
  },
  "language_info": {
   "codemirror_mode": {
    "name": "ipython",
    "version": 3
   },
   "file_extension": ".py",
   "mimetype": "text/x-python",
   "name": "python",
   "nbconvert_exporter": "python",
   "pygments_lexer": "ipython3",
   "version": "3.10.8"
  }
 },
 "nbformat": 4,
 "nbformat_minor": 2
}
